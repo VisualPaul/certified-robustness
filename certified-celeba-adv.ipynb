{
 "cells": [
  {
   "cell_type": "code",
   "execution_count": 1,
   "metadata": {
    "colab": {
     "base_uri": "https://localhost:8080/"
    },
    "id": "YAk4nBvXVLkJ",
    "outputId": "76167999-4dc5-4163-d3b9-fdb76bba7e95"
   },
   "outputs": [
    {
     "name": "stdout",
     "output_type": "stream",
     "text": [
      "Populating the interactive namespace from numpy and matplotlib\n"
     ]
    }
   ],
   "source": [
    "%pylab inline"
   ]
  },
  {
   "cell_type": "code",
   "execution_count": 2,
   "metadata": {},
   "outputs": [
    {
     "data": {
      "application/vnd.jupyter.widget-view+json": {
       "model_id": "68560fbbac3b4af693222e22941f5d0b",
       "version_major": 2,
       "version_minor": 0
      },
      "text/plain": [
       "BoundedIntText(value=0, description='GPU to use:', max=1)"
      ]
     },
     "metadata": {},
     "output_type": "display_data"
    },
    {
     "data": {
      "application/vnd.jupyter.widget-view+json": {
       "model_id": "3c4da484c1664ba2a00b86cf72a14c4f",
       "version_major": 2,
       "version_minor": 0
      },
      "text/plain": [
       "Button(description='Set', icon='check', style=ButtonStyle())"
      ]
     },
     "metadata": {},
     "output_type": "display_data"
    }
   ],
   "source": [
    "import os\n",
    "import sys\n",
    "import ipywidgets as widgets\n",
    "\n",
    "cuda_input = widgets.BoundedIntText(\n",
    "    value=0,\n",
    "    min=0,\n",
    "    max=1,\n",
    "    step=1,\n",
    "    description='GPU to use:',\n",
    ")\n",
    "button = widgets.Button(\n",
    "    description='Set',\n",
    "    icon='check'\n",
    ")\n",
    "\n",
    "def set_gpu_to_use(btn=None):\n",
    "    os.environ['CUDA_VISIBLE_DEVICES'] = str(cuda_input.value)\n",
    "    \n",
    "display(cuda_input)\n",
    "set_gpu_to_use()\n",
    "button.on_click(set_gpu_to_use)\n",
    "display(button)"
   ]
  },
  {
   "cell_type": "code",
   "execution_count": 3,
   "metadata": {
    "colab": {
     "base_uri": "https://localhost:8080/"
    },
    "id": "spvu8qMfVQ8Y",
    "outputId": "21852b33-078e-40aa-cabe-818d7b0574b4"
   },
   "outputs": [],
   "source": [
    "from torch import functional as F\n",
    "from torch import nn\n",
    "from torchvision import datasets, transforms, models\n",
    "import torch\n",
    "\n",
    "from tqdm import notebook as tqdm\n",
    "from torch.utils.tensorboard import SummaryWriter"
   ]
  },
  {
   "cell_type": "code",
   "execution_count": 4,
   "metadata": {
    "id": "kwnddIh2VTZZ"
   },
   "outputs": [],
   "source": [
    "from smoothing import AverageCounter, MovingAverageCounter, AdversarialAttackAugmenter, calculate_radii, get_certified_accuracies"
   ]
  },
  {
   "cell_type": "code",
   "execution_count": 31,
   "metadata": {
    "id": "TNNx2tLTVZ74"
   },
   "outputs": [],
   "source": [
    "def train(loader, model, criterion, optimizer, writer, epoch, augmenter, device=torch.device('cpu'), skip_minibatches=0):\n",
    "    assert model.training\n",
    "    loss_cnt = MovingAverageCounter(5)\n",
    "    iteration = (epoch - 1) * len(loader.dataset)\n",
    "\n",
    "    for i, (X, y) in enumerate(tqdm.tqdm(loader)):\n",
    "        iteration += len(y)\n",
    "        if i < skip_minibatches:\n",
    "            continue\n",
    "        input = X.to(device)\n",
    "        target = y.to(device).to(torch.float32)\n",
    "        X_aug, y_aug = augmenter.augment_tensors(input, target, model)\n",
    "        y_pred = model(X_aug)\n",
    "        loss = criterion(y_pred, y_aug)\n",
    "        loss_cnt.add(loss.item())\n",
    "        \n",
    "        writer.add_scalar('Loss/train', loss_cnt.get_average(), iteration)\n",
    "        optimizer.zero_grad()\n",
    "        loss.backward()\n",
    "        optimizer.step()\n",
    "        "
   ]
  },
  {
   "cell_type": "code",
   "execution_count": 6,
   "metadata": {
    "id": "_TbFtzjXbug1"
   },
   "outputs": [
    {
     "name": "stdout",
     "output_type": "stream",
     "text": [
      "NVIDIA Tesla K80\n"
     ]
    }
   ],
   "source": [
    "if torch.cuda.is_available():\n",
    "    device = torch.device('cuda')\n",
    "    print(torch.cuda.get_device_name(device))\n",
    "else:\n",
    "    device = torch.device('cpu')"
   ]
  },
  {
   "cell_type": "code",
   "execution_count": 7,
   "metadata": {},
   "outputs": [],
   "source": [
    "celeba_transforms = [\n",
    "    transforms.ToTensor(),\n",
    "#    transforms.Normalize(img_mean, img_std),  # kinda painful to do that with adversarial attacks\n",
    "]\n",
    "celeba_transform = transforms.Compose(celeba_transforms)\n",
    "\n",
    "celeba_transform_train = transforms.Compose([\n",
    "    transforms.RandomHorizontalFlip(),\n",
    "] + celeba_transforms)"
   ]
  },
  {
   "cell_type": "code",
   "execution_count": 8,
   "metadata": {
    "id": "958DxtMCWKdK"
   },
   "outputs": [],
   "source": [
    "celeba_train_dataset = datasets.CelebA('dsets/', split='train', target_type='attr',\n",
    "                                      download=False, transform=celeba_transform_train)"
   ]
  },
  {
   "cell_type": "code",
   "execution_count": 9,
   "metadata": {
    "id": "RzACpTt_dV5n"
   },
   "outputs": [],
   "source": [
    "celeba_test_dataset = datasets.CelebA('dsets/', split='valid', target_type='attr',\n",
    "                                      download=False, transform=celeba_transform)"
   ]
  },
  {
   "cell_type": "code",
   "execution_count": 10,
   "metadata": {},
   "outputs": [],
   "source": [
    "class CelebaModel(nn.Module):\n",
    "    def __init__(self):\n",
    "        super(CelebaModel, self).__init__()\n",
    "        self.resnet50 = models.resnet50(pretrained=True)\n",
    "        self.resnet50.fc = nn.Linear(2048, 40)\n",
    "\n",
    "    def forward(self, x):\n",
    "        return self.resnet50(x)\n",
    "    \n",
    "class CelebaModel18(nn.Module):\n",
    "    def __init__(self):\n",
    "        super(CelebaModel18, self).__init__()\n",
    "        self.resnet18 = models.resnet18(pretrained=True)\n",
    "        self.resnet18.fc = nn.Linear(512, 40)\n",
    "\n",
    "    def forward(self, x):\n",
    "        return self.resnet18(x)"
   ]
  },
  {
   "cell_type": "code",
   "execution_count": 11,
   "metadata": {},
   "outputs": [],
   "source": [
    "batch_size=128"
   ]
  },
  {
   "cell_type": "code",
   "execution_count": 12,
   "metadata": {
    "id": "DUqze3F1Z6J6"
   },
   "outputs": [],
   "source": [
    "train_loader = torch.utils.data.DataLoader(celeba_train_dataset, batch_size)\n",
    "test_loader = torch.utils.data.DataLoader(celeba_test_dataset, batch_size)"
   ]
  },
  {
   "cell_type": "code",
   "execution_count": 13,
   "metadata": {
    "id": "fWCPsnTZaISi"
   },
   "outputs": [],
   "source": [
    "criterion = nn.BCEWithLogitsLoss()\n",
    "model = CelebaModel18().to(device)\n",
    "optimizer = torch.optim.Adam(model.parameters(), lr=1e-3)\n",
    "augmenter = AdversarialAttackAugmenter(4, 4.0, 2, 0.5)"
   ]
  },
  {
   "cell_type": "code",
   "execution_count": 14,
   "metadata": {},
   "outputs": [],
   "source": [
    "writer = SummaryWriter(log_dir='runs/celeba-adv-s05')"
   ]
  },
  {
   "cell_type": "code",
   "execution_count": 15,
   "metadata": {},
   "outputs": [],
   "source": [
    "def uncertified_validate(loader, model, criterion, writer, epoch, device):\n",
    "    assert model.training\n",
    "    try:\n",
    "        model.eval()\n",
    "        loss_cnt = AverageCounter()\n",
    "        accuracy_cnt = AverageCounter()\n",
    "        with torch.no_grad():\n",
    "            for X, y in tqdm.tqdm(loader):\n",
    "                y_pred = model(X.to(device))\n",
    "                y = y.to(device)\n",
    "                accuracy_cnt.add(torch.mean(((y_pred > 0) == y).to(torch.float)).item())\n",
    "                loss = criterion(y_pred, y.to(y_pred.dtype))\n",
    "                loss_cnt.add(loss.item())\n",
    "            writer.add_scalar('Loss/val', loss_cnt.get_average(), epoch)\n",
    "            writer.add_scalar('Accuracy/val', accuracy_cnt.get_average(), epoch)\n",
    "    finally:\n",
    "        model.train()"
   ]
  },
  {
   "cell_type": "code",
   "execution_count": 16,
   "metadata": {},
   "outputs": [],
   "source": [
    "def pl(ax, d, **kwargs):\n",
    "    radii, res = get_certified_accuracies(d)\n",
    "    ax.plot(radii, res, **kwargs)"
   ]
  },
  {
   "cell_type": "code",
   "execution_count": 32,
   "metadata": {
    "colab": {
     "base_uri": "https://localhost:8080/",
     "height": 1000
    },
    "id": "6pgI_Pt4mi75",
    "outputId": "3506d1f7-a586-4ec1-c383-2c2459929b99"
   },
   "outputs": [
    {
     "name": "stdout",
     "output_type": "stream",
     "text": [
      "Epoch 2\n"
     ]
    },
    {
     "data": {
      "application/vnd.jupyter.widget-view+json": {
       "model_id": "340361bec5f64db79f5c755ec9d26446",
       "version_major": 2,
       "version_minor": 0
      },
      "text/plain": [
       "  0%|          | 0/1272 [00:00<?, ?it/s]"
      ]
     },
     "metadata": {},
     "output_type": "display_data"
    },
    {
     "data": {
      "application/vnd.jupyter.widget-view+json": {
       "model_id": "1489a1d23c224936aa3e04ad13ab749d",
       "version_major": 2,
       "version_minor": 0
      },
      "text/plain": [
       "  0%|          | 0/156 [00:00<?, ?it/s]"
      ]
     },
     "metadata": {},
     "output_type": "display_data"
    },
    {
     "data": {
      "application/vnd.jupyter.widget-view+json": {
       "model_id": "d5605d5c5f014a8d9b6529805b255af9",
       "version_major": 2,
       "version_minor": 0
      },
      "text/plain": [
       "  0%|          | 0/25 [00:00<?, ?it/s]"
      ]
     },
     "metadata": {},
     "output_type": "display_data"
    },
    {
     "name": "stdout",
     "output_type": "stream",
     "text": [
      "Epoch 3\n"
     ]
    },
    {
     "data": {
      "application/vnd.jupyter.widget-view+json": {
       "model_id": "7a79c195986048deb4dd37095c7090c3",
       "version_major": 2,
       "version_minor": 0
      },
      "text/plain": [
       "  0%|          | 0/1272 [00:00<?, ?it/s]"
      ]
     },
     "metadata": {},
     "output_type": "display_data"
    },
    {
     "data": {
      "application/vnd.jupyter.widget-view+json": {
       "model_id": "f360a74ef010465095f7082304925f2a",
       "version_major": 2,
       "version_minor": 0
      },
      "text/plain": [
       "  0%|          | 0/156 [00:00<?, ?it/s]"
      ]
     },
     "metadata": {},
     "output_type": "display_data"
    },
    {
     "data": {
      "application/vnd.jupyter.widget-view+json": {
       "model_id": "d1fbe4381fee46c784502510c704cc86",
       "version_major": 2,
       "version_minor": 0
      },
      "text/plain": [
       "  0%|          | 0/25 [00:00<?, ?it/s]"
      ]
     },
     "metadata": {},
     "output_type": "display_data"
    },
    {
     "name": "stdout",
     "output_type": "stream",
     "text": [
      "Epoch 4\n"
     ]
    },
    {
     "data": {
      "application/vnd.jupyter.widget-view+json": {
       "model_id": "0db18e1957b24d9bb64a9ce372ca1226",
       "version_major": 2,
       "version_minor": 0
      },
      "text/plain": [
       "  0%|          | 0/1272 [00:00<?, ?it/s]"
      ]
     },
     "metadata": {},
     "output_type": "display_data"
    },
    {
     "data": {
      "application/vnd.jupyter.widget-view+json": {
       "model_id": "be21c93219c64a9cb95cb4f1327871b7",
       "version_major": 2,
       "version_minor": 0
      },
      "text/plain": [
       "  0%|          | 0/156 [00:00<?, ?it/s]"
      ]
     },
     "metadata": {},
     "output_type": "display_data"
    },
    {
     "data": {
      "application/vnd.jupyter.widget-view+json": {
       "model_id": "4753933229b04ccdb76f2520c01e2bf4",
       "version_major": 2,
       "version_minor": 0
      },
      "text/plain": [
       "  0%|          | 0/25 [00:00<?, ?it/s]"
      ]
     },
     "metadata": {},
     "output_type": "display_data"
    },
    {
     "name": "stdout",
     "output_type": "stream",
     "text": [
      "Epoch 5\n"
     ]
    },
    {
     "data": {
      "application/vnd.jupyter.widget-view+json": {
       "model_id": "2f6717ee38f94d1d86d4074cf932d6e3",
       "version_major": 2,
       "version_minor": 0
      },
      "text/plain": [
       "  0%|          | 0/1272 [00:00<?, ?it/s]"
      ]
     },
     "metadata": {},
     "output_type": "display_data"
    },
    {
     "data": {
      "application/vnd.jupyter.widget-view+json": {
       "model_id": "9e2a59565b844692bc1c49e99493d978",
       "version_major": 2,
       "version_minor": 0
      },
      "text/plain": [
       "  0%|          | 0/156 [00:00<?, ?it/s]"
      ]
     },
     "metadata": {},
     "output_type": "display_data"
    },
    {
     "data": {
      "application/vnd.jupyter.widget-view+json": {
       "model_id": "26fd266c29924497aa619275c71dca6e",
       "version_major": 2,
       "version_minor": 0
      },
      "text/plain": [
       "  0%|          | 0/25 [00:00<?, ?it/s]"
      ]
     },
     "metadata": {},
     "output_type": "display_data"
    },
    {
     "name": "stdout",
     "output_type": "stream",
     "text": [
      "Epoch 6\n"
     ]
    },
    {
     "data": {
      "application/vnd.jupyter.widget-view+json": {
       "model_id": "360bbeb6ed0f4b509f0629855cf73c79",
       "version_major": 2,
       "version_minor": 0
      },
      "text/plain": [
       "  0%|          | 0/1272 [00:00<?, ?it/s]"
      ]
     },
     "metadata": {},
     "output_type": "display_data"
    },
    {
     "name": "stderr",
     "output_type": "stream",
     "text": [
      "IOPub message rate exceeded.\n",
      "The notebook server will temporarily stop sending output\n",
      "to the client in order to avoid crashing it.\n",
      "To change this limit, set the config variable\n",
      "`--NotebookApp.iopub_msg_rate_limit`.\n",
      "\n",
      "Current values:\n",
      "NotebookApp.iopub_msg_rate_limit=1000.0 (msgs/sec)\n",
      "NotebookApp.rate_limit_window=3.0 (secs)\n",
      "\n"
     ]
    },
    {
     "name": "stdout",
     "output_type": "stream",
     "text": [
      "Epoch 7\n"
     ]
    },
    {
     "data": {
      "application/vnd.jupyter.widget-view+json": {
       "model_id": "bce99a46d2b142318ea70fbfe81e1689",
       "version_major": 2,
       "version_minor": 0
      },
      "text/plain": [
       "  0%|          | 0/1272 [00:00<?, ?it/s]"
      ]
     },
     "metadata": {},
     "output_type": "display_data"
    },
    {
     "ename": "KeyboardInterrupt",
     "evalue": "",
     "output_type": "error",
     "traceback": [
      "\u001b[0;31m---------------------------------------------------------------------------\u001b[0m",
      "\u001b[0;31mKeyboardInterrupt\u001b[0m                         Traceback (most recent call last)",
      "\u001b[0;32m<ipython-input-32-58d67f39eb5c>\u001b[0m in \u001b[0;36m<module>\u001b[0;34m\u001b[0m\n\u001b[1;32m      4\u001b[0m     \u001b[0mprint\u001b[0m\u001b[0;34m(\u001b[0m\u001b[0;34mf'Epoch {epoch}'\u001b[0m\u001b[0;34m)\u001b[0m\u001b[0;34m\u001b[0m\u001b[0;34m\u001b[0m\u001b[0m\n\u001b[1;32m      5\u001b[0m     \u001b[0mmodel\u001b[0m\u001b[0;34m.\u001b[0m\u001b[0mtrain\u001b[0m\u001b[0;34m(\u001b[0m\u001b[0;34m)\u001b[0m\u001b[0;34m\u001b[0m\u001b[0;34m\u001b[0m\u001b[0m\n\u001b[0;32m----> 6\u001b[0;31m     \u001b[0mtrain\u001b[0m\u001b[0;34m(\u001b[0m\u001b[0mtrain_loader\u001b[0m\u001b[0;34m,\u001b[0m \u001b[0mmodel\u001b[0m\u001b[0;34m,\u001b[0m \u001b[0mcriterion\u001b[0m\u001b[0;34m,\u001b[0m \u001b[0moptimizer\u001b[0m\u001b[0;34m,\u001b[0m \u001b[0mwriter\u001b[0m\u001b[0;34m,\u001b[0m \u001b[0mepoch\u001b[0m\u001b[0;34m,\u001b[0m \u001b[0maugmenter\u001b[0m\u001b[0;34m,\u001b[0m \u001b[0mdevice\u001b[0m\u001b[0;34m,\u001b[0m \u001b[0mskip_minibatches\u001b[0m\u001b[0;34m=\u001b[0m\u001b[0mskip_minibatches\u001b[0m\u001b[0;34m)\u001b[0m\u001b[0;34m\u001b[0m\u001b[0;34m\u001b[0m\u001b[0m\n\u001b[0m\u001b[1;32m      7\u001b[0m     \u001b[0mtorch\u001b[0m\u001b[0;34m.\u001b[0m\u001b[0msave\u001b[0m\u001b[0;34m(\u001b[0m\u001b[0mmodel\u001b[0m\u001b[0;34m,\u001b[0m \u001b[0;34mf'celeba-adv{epoch:02d}.pth'\u001b[0m\u001b[0;34m)\u001b[0m\u001b[0;34m\u001b[0m\u001b[0;34m\u001b[0m\u001b[0m\n\u001b[1;32m      8\u001b[0m     \u001b[0muncertified_validate\u001b[0m\u001b[0;34m(\u001b[0m\u001b[0mtest_loader\u001b[0m\u001b[0;34m,\u001b[0m \u001b[0mmodel\u001b[0m\u001b[0;34m,\u001b[0m \u001b[0mcriterion\u001b[0m\u001b[0;34m,\u001b[0m \u001b[0mwriter\u001b[0m\u001b[0;34m,\u001b[0m \u001b[0mepoch\u001b[0m\u001b[0;34m,\u001b[0m \u001b[0mdevice\u001b[0m\u001b[0;34m)\u001b[0m\u001b[0;34m\u001b[0m\u001b[0;34m\u001b[0m\u001b[0m\n",
      "\u001b[0;32m<ipython-input-31-a6789f13a5f1>\u001b[0m in \u001b[0;36mtrain\u001b[0;34m(loader, model, criterion, optimizer, writer, epoch, augmenter, device, skip_minibatches)\u001b[0m\n\u001b[1;32m      8\u001b[0m         \u001b[0;32mif\u001b[0m \u001b[0mi\u001b[0m \u001b[0;34m<\u001b[0m \u001b[0mskip_minibatches\u001b[0m\u001b[0;34m:\u001b[0m\u001b[0;34m\u001b[0m\u001b[0;34m\u001b[0m\u001b[0m\n\u001b[1;32m      9\u001b[0m             \u001b[0;32mcontinue\u001b[0m\u001b[0;34m\u001b[0m\u001b[0;34m\u001b[0m\u001b[0m\n\u001b[0;32m---> 10\u001b[0;31m         \u001b[0minput\u001b[0m \u001b[0;34m=\u001b[0m \u001b[0mX\u001b[0m\u001b[0;34m.\u001b[0m\u001b[0mto\u001b[0m\u001b[0;34m(\u001b[0m\u001b[0mdevice\u001b[0m\u001b[0;34m)\u001b[0m\u001b[0;34m\u001b[0m\u001b[0;34m\u001b[0m\u001b[0m\n\u001b[0m\u001b[1;32m     11\u001b[0m         \u001b[0mtarget\u001b[0m \u001b[0;34m=\u001b[0m \u001b[0my\u001b[0m\u001b[0;34m.\u001b[0m\u001b[0mto\u001b[0m\u001b[0;34m(\u001b[0m\u001b[0mdevice\u001b[0m\u001b[0;34m)\u001b[0m\u001b[0;34m.\u001b[0m\u001b[0mto\u001b[0m\u001b[0;34m(\u001b[0m\u001b[0mtorch\u001b[0m\u001b[0;34m.\u001b[0m\u001b[0mfloat32\u001b[0m\u001b[0;34m)\u001b[0m\u001b[0;34m\u001b[0m\u001b[0;34m\u001b[0m\u001b[0m\n\u001b[1;32m     12\u001b[0m         \u001b[0mX_aug\u001b[0m\u001b[0;34m,\u001b[0m \u001b[0my_aug\u001b[0m \u001b[0;34m=\u001b[0m \u001b[0maugmenter\u001b[0m\u001b[0;34m.\u001b[0m\u001b[0maugment_tensors\u001b[0m\u001b[0;34m(\u001b[0m\u001b[0minput\u001b[0m\u001b[0;34m,\u001b[0m \u001b[0mtarget\u001b[0m\u001b[0;34m,\u001b[0m \u001b[0mmodel\u001b[0m\u001b[0;34m)\u001b[0m\u001b[0;34m\u001b[0m\u001b[0;34m\u001b[0m\u001b[0m\n",
      "\u001b[0;31mKeyboardInterrupt\u001b[0m: "
     ]
    }
   ],
   "source": [
    "epoch = 2\n",
    "skip_minibatches = 0\n",
    "while epoch <= 10:\n",
    "    print(f'Epoch {epoch}')\n",
    "    model.train()\n",
    "    train(train_loader, model, criterion, optimizer, writer, epoch, augmenter, device, skip_minibatches=skip_minibatches)\n",
    "    torch.save(model, f'celeba-adv{epoch:02d}.pth')\n",
    "    uncertified_validate(test_loader, model, criterion, writer, epoch, device)\n",
    "    res_18 = calculate_radii(celeba_test_dataset, range(25), model, 10**2, 10**4, 1e-3, .5, device=device, batch_size=batch_size)\n",
    "    torch.save(res_18, f'adv-res{epoch:02d}.pth')\n",
    "    fig, ax = plt.subplots()\n",
    "    pl(ax, res_18, label='18')\n",
    "    pl(ax, torch.load('eval10.pth'), label='smoothened')\n",
    "    writer.add_figure('certified-accuracy', fig, epoch)\n",
    "    epoch += 1"
   ]
  },
  {
   "cell_type": "code",
   "execution_count": 30,
   "metadata": {},
   "outputs": [],
   "source": [
    "model = torch.load('celeba-adv01.pth').to(device)"
   ]
  },
  {
   "cell_type": "code",
   "execution_count": 2,
   "metadata": {},
   "outputs": [],
   "source": [
    "from scipy.stats import norm, binom_test\n",
    "from statsmodels.stats.proportion import proportion_confint"
   ]
  },
  {
   "cell_type": "code",
   "execution_count": 19,
   "metadata": {},
   "outputs": [],
   "source": [
    "N = np.round(np.logspace(2, 10, num=200)).astype(np.int)"
   ]
  },
  {
   "cell_type": "code",
   "execution_count": 20,
   "metadata": {},
   "outputs": [],
   "source": [
    "res = proportion_confint(N, N, 2e-3, method='beta')[0]"
   ]
  },
  {
   "cell_type": "code",
   "execution_count": 21,
   "metadata": {},
   "outputs": [
    {
     "data": {
      "text/plain": [
       "array([1.50047502, 1.54753929, 1.5898073 , 1.6353699 , 1.67954715,\n",
       "       1.72222054, 1.76333463, 1.80522075, 1.84720184, 1.88689555,\n",
       "       1.92620429, 1.96634531, 2.00527816, 2.04291689, 2.08033525,\n",
       "       2.11820635, 2.15510396, 2.1909077 , 2.22701155, 2.26296174,\n",
       "       2.29783421, 2.33263445, 2.36654823, 2.40077934, 2.434114  ,\n",
       "       2.46752153, 2.50033025, 2.53266378, 2.56485244, 2.59685422,\n",
       "       2.62840502, 2.65969981, 2.69067566, 2.72127406, 2.75172409,\n",
       "       2.78190015, 2.81181568, 2.84135809, 2.87072168, 2.89984581,\n",
       "       2.92867234, 2.9573559 , 2.98572768, 3.01394503, 3.04188791,\n",
       "       3.06960086, 3.09713969, 3.12448548, 3.15157401, 3.17850382,\n",
       "       3.20523842, 3.23178804, 3.25814307, 3.28430222, 3.31028703,\n",
       "       3.33611294, 3.36174271, 3.38722081, 3.41252255, 3.43767372,\n",
       "       3.46265473, 3.48748462, 3.51216055, 3.53668079, 3.5610502 ,\n",
       "       3.58528247, 3.60936551, 3.63330257, 3.65710952, 3.6807732 ,\n",
       "       3.70430525, 3.72770574, 3.75097598, 3.77411967, 3.79713521,\n",
       "       3.82002623, 3.8427959 , 3.86544573, 3.88797844, 3.91039286,\n",
       "       3.93269313, 3.95487986, 3.97695506, 3.99892034, 4.02077767,\n",
       "       4.04252801, 4.06417286, 4.0857143 , 4.10715276, 4.12849075,\n",
       "       4.14972908, 4.17086979, 4.19191305, 4.21286043, 4.23371389,\n",
       "       4.25447397, 4.27514201, 4.29571968, 4.31620741, 4.33660692,\n",
       "       4.35691888, 4.37714461, 4.39728517, 4.4173415 , 4.43731477,\n",
       "       4.45720584, 4.47701567, 4.4967454 , 4.51639584, 4.53596802,\n",
       "       4.55546263, 4.57488082, 4.59422331, 4.61349095, 4.63268465,\n",
       "       4.65180525, 4.6708535 , 4.68983022, 4.70873622, 4.72757219,\n",
       "       4.74633898, 4.76503726, 4.78366781, 4.8022313 , 4.82072845,\n",
       "       4.83915998, 4.85752653, 4.87582878, 4.8940674 , 4.91224302,\n",
       "       4.93035629, 4.94840781, 4.96639821, 4.98432811, 5.00219808,\n",
       "       5.02000871, 5.03776058, 5.05545426, 5.0730903 , 5.09066925,\n",
       "       5.10819165, 5.12565804, 5.14306893, 5.16042484, 5.17772629,\n",
       "       5.19497376, 5.21216776, 5.22930877, 5.24639726, 5.2634337 ,\n",
       "       5.28041858, 5.29735232, 5.3142354 , 5.33106825, 5.3478513 ,\n",
       "       5.364585  , 5.38126977, 5.39790602, 5.41449417, 5.43103463,\n",
       "       5.4475278 , 5.46397406, 5.48037383, 5.49672748, 5.51303539,\n",
       "       5.52929793, 5.54551548, 5.56168841, 5.57781707, 5.59390181,\n",
       "       5.60994299, 5.62594096, 5.64189605, 5.6578086 , 5.67367896,\n",
       "       5.68950743, 5.70529436, 5.72104005, 5.73674484, 5.75240901,\n",
       "       5.76803289, 5.78361679, 5.799161  , 5.8146658 , 5.83013152,\n",
       "       5.84555844, 5.86094681, 5.87629696, 5.89160915, 5.90688365,\n",
       "       5.92212072, 5.93732068, 5.95248374, 5.96761018, 5.98270029,\n",
       "       5.9977543 , 6.01277247, 6.02775503, 6.04270227, 6.0576144 ])"
      ]
     },
     "execution_count": 21,
     "metadata": {},
     "output_type": "execute_result"
    }
   ],
   "source": [
    "norm.ppf(res)"
   ]
  },
  {
   "cell_type": "code",
   "execution_count": 22,
   "metadata": {},
   "outputs": [
    {
     "data": {
      "image/png": "[encoded data removed]",
      "text/plain": [
       "<Figure size 432x288 with 1 Axes>"
      ]
     },
     "metadata": {
      "needs_background": "light"
     },
     "output_type": "display_data"
    }
   ],
   "source": [
    "plt.plot(N, norm.ppf(res))\n",
    "plt.yscale('log')"
   ]
  },
  {
   "cell_type": "code",
   "execution_count": null,
   "metadata": {},
   "outputs": [],
   "source": []
  }
 ],
 "metadata": {
  "accelerator": "GPU",
  "colab": {
   "name": "Untitled2.ipynb",
   "provenance": []
  },
  "kernelspec": {
   "display_name": "Python 3",
   "language": "python",
   "name": "python3"
  },
  "language_info": {
   "codemirror_mode": {
    "name": "ipython",
    "version": 3
   },
   "file_extension": ".py",
   "mimetype": "text/x-python",
   "name": "python",
   "nbconvert_exporter": "python",
   "pygments_lexer": "ipython3",
   "version": "3.8.8"
  }
 },
 "nbformat": 4,
 "nbformat_minor": 1
}
