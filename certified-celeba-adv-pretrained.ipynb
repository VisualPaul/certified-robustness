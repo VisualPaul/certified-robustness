{
 "cells": [
  {
   "cell_type": "code",
   "execution_count": 1,
   "metadata": {
    "colab": {
     "base_uri": "https://localhost:8080/"
    },
    "id": "YAk4nBvXVLkJ",
    "outputId": "76167999-4dc5-4163-d3b9-fdb76bba7e95"
   },
   "outputs": [
    {
     "name": "stdout",
     "output_type": "stream",
     "text": [
      "Populating the interactive namespace from numpy and matplotlib\n"
     ]
    }
   ],
   "source": [
    "%pylab inline"
   ]
  },
  {
   "cell_type": "code",
   "execution_count": 2,
   "metadata": {},
   "outputs": [
    {
     "name": "stdout",
     "output_type": "stream",
     "text": [
      "Chose GPU#1\n"
     ]
    }
   ],
   "source": [
    "import pynvml\n",
    "import os\n",
    "pynvml.nvmlInit()\n",
    "device_count = pynvml.nvmlDeviceGetCount()\n",
    "device = np.argmax([pynvml.nvmlDeviceGetMemoryInfo(pynvml.nvmlDeviceGetHandleByIndex(i)).free for i in range(device_count)])\n",
    "print(f'Chose GPU#{device}')\n",
    "os.environ['CUDA_VISIBLE_DEVICES'] = str(device)"
   ]
  },
  {
   "cell_type": "code",
   "execution_count": 3,
   "metadata": {
    "colab": {
     "base_uri": "https://localhost:8080/"
    },
    "id": "spvu8qMfVQ8Y",
    "outputId": "21852b33-078e-40aa-cabe-818d7b0574b4"
   },
   "outputs": [],
   "source": [
    "from torch import functional as F\n",
    "from torch import nn\n",
    "from torchvision import datasets, transforms, models\n",
    "import torch\n",
    "\n",
    "from tqdm import notebook as tqdm\n",
    "from torch.utils.tensorboard import SummaryWriter"
   ]
  },
  {
   "cell_type": "code",
   "execution_count": 4,
   "metadata": {
    "id": "kwnddIh2VTZZ"
   },
   "outputs": [],
   "source": [
    "from smoothing import AverageCounter, MovingAverageCounter, AdversarialAttackAugmenter, calculate_radii, get_certified_accuracies"
   ]
  },
  {
   "cell_type": "code",
   "execution_count": 5,
   "metadata": {
    "id": "TNNx2tLTVZ74"
   },
   "outputs": [],
   "source": [
    "def train(loader, model, criterion, optimizer, writer, epoch, augmenter, device=torch.device('cpu')):\n",
    "    assert model.training\n",
    "    loss_cnt = MovingAverageCounter(5)\n",
    "    iteration = (epoch - 1) * len(loader.dataset)\n",
    "\n",
    "    for X, y in tqdm.tqdm(loader):\n",
    "        input = X.to(device)\n",
    "        target = y.to(device).to(torch.float32)\n",
    "        X_aug, y_aug = augmenter.augment_tensors(input, target, model)\n",
    "        y_pred = model(X_aug)\n",
    "        loss = criterion(y_pred, y_aug)\n",
    "        loss_cnt.add(loss.item())\n",
    "        iteration += len(y)\n",
    "        writer.add_scalar('Loss/train', loss_cnt.get_average(), iteration)\n",
    "        optimizer.zero_grad()\n",
    "        loss.backward()\n",
    "        optimizer.step()\n",
    "        "
   ]
  },
  {
   "cell_type": "code",
   "execution_count": 6,
   "metadata": {
    "id": "_TbFtzjXbug1"
   },
   "outputs": [
    {
     "name": "stdout",
     "output_type": "stream",
     "text": [
      "NVIDIA Tesla K80\n"
     ]
    }
   ],
   "source": [
    "if torch.cuda.is_available():\n",
    "    device = torch.device('cuda')\n",
    "    print(torch.cuda.get_device_name(device))\n",
    "else:\n",
    "    device = torch.device('cpu')"
   ]
  },
  {
   "cell_type": "code",
   "execution_count": 8,
   "metadata": {},
   "outputs": [],
   "source": [
    "img_mean = [0.5063, 0.4258, 0.3832]\n",
    "img_std = [0.2660, 0.2452, 0.2414]\n",
    "\n",
    "celeba_transform = transforms.Compose([\n",
    "    transforms.Resize(64),\n",
    "    transforms.CenterCrop(32), \n",
    "    transforms.ToTensor()\n",
    "])\n",
    "\n",
    "celeba_transform_train = transforms.Compose([\n",
    "    transforms.Resize(64),\n",
    "    transforms.RandomCrop(32), \n",
    "    transforms.RandomHorizontalFlip(), \n",
    "    transforms.ToTensor()\n",
    "])"
   ]
  },
  {
   "cell_type": "code",
   "execution_count": 9,
   "metadata": {
    "id": "958DxtMCWKdK"
   },
   "outputs": [],
   "source": [
    "celeba_train_dataset = datasets.CelebA('dsets/', split='train', target_type='attr',\n",
    "                                      download=False, transform=celeba_transform_train)"
   ]
  },
  {
   "cell_type": "code",
   "execution_count": 10,
   "metadata": {
    "id": "RzACpTt_dV5n"
   },
   "outputs": [],
   "source": [
    "celeba_test_dataset = datasets.CelebA('dsets/', split='valid', target_type='attr',\n",
    "                                      download=False, transform=celeba_transform)"
   ]
  },
  {
   "cell_type": "code",
   "execution_count": 11,
   "metadata": {},
   "outputs": [],
   "source": [
    "class CelebaModel(nn.Module):\n",
    "    def __init__(self):\n",
    "        super(CelebaModel, self).__init__()\n",
    "        self.resnet50 = models.resnet50(pretrained=True)\n",
    "        self.resnet50.fc = nn.Linear(2048, 40)\n",
    "\n",
    "    def forward(self, x):\n",
    "        return self.resnet50(x)\n",
    "    \n",
    "class CelebaModel18(nn.Module):\n",
    "    def __init__(self):\n",
    "        super(CelebaModel18, self).__init__()\n",
    "        self.resnet18 = models.resnet18(pretrained=True)\n",
    "        self.resnet18.fc = nn.Linear(512, 40)\n",
    "\n",
    "    def forward(self, x):\n",
    "        return self.resnet18(x)"
   ]
  },
  {
   "cell_type": "code",
   "execution_count": 12,
   "metadata": {},
   "outputs": [],
   "source": [
    "cp = torch.load('cp/checkpoint.pth.tar')"
   ]
  },
  {
   "cell_type": "code",
   "execution_count": 13,
   "metadata": {},
   "outputs": [],
   "source": [
    "from cifar_resnet import resnet\n",
    "class NormalizeLayer(torch.nn.Module):\n",
    "    \"\"\"Standardize the channels of a batch of images by subtracting the dataset mean\n",
    "      and dividing by the dataset standard deviation.\n",
    "      In order to certify radii in original coordinates rather than standardized coordinates, we\n",
    "      add the Gaussian noise _before_ standardizing, which is why we have standardization be the first\n",
    "      layer of the classifier rather than as a part of preprocessing as is typical.\n",
    "      \"\"\"\n",
    "\n",
    "    def __init__(self, means, sds):\n",
    "        \"\"\"\n",
    "        :param means: the channel means\n",
    "        :param sds: the channel standard deviations\n",
    "        \"\"\"\n",
    "        super(NormalizeLayer, self).__init__()\n",
    "        self.means = torch.tensor(means).to(device)\n",
    "        self.sds = torch.tensor(sds).to(device)\n",
    "\n",
    "    def forward(self, input):\n",
    "        means = self.means.view(1, 3, 1, 1).expand_as(input)\n",
    "        sds = self.sds.view(1,3,1,1).expand_as(input)\n",
    "        return (input - means)/sds"
   ]
  },
  {
   "cell_type": "code",
   "execution_count": 14,
   "metadata": {},
   "outputs": [],
   "source": [
    "model = nn.Sequential(NormalizeLayer(img_mean, img_std), resnet(depth=110, num_classes=1000))\n",
    "model.load_state_dict(cp['state_dict'])\n",
    "model[1].fc = nn.Linear(64, 40)\n",
    "model = model.to(device)"
   ]
  },
  {
   "cell_type": "code",
   "execution_count": 15,
   "metadata": {},
   "outputs": [],
   "source": [
    "batch_size=64"
   ]
  },
  {
   "cell_type": "code",
   "execution_count": 16,
   "metadata": {
    "id": "DUqze3F1Z6J6"
   },
   "outputs": [],
   "source": [
    "train_loader = torch.utils.data.DataLoader(celeba_train_dataset, batch_size)\n",
    "test_loader = torch.utils.data.DataLoader(celeba_test_dataset, batch_size)"
   ]
  },
  {
   "cell_type": "code",
   "execution_count": 17,
   "metadata": {
    "id": "fWCPsnTZaISi"
   },
   "outputs": [],
   "source": [
    "criterion = nn.BCEWithLogitsLoss()\n",
    "optimizer = torch.optim.Adam(model[1].parameters(), lr=1e-3)\n",
    "augmenter = AdversarialAttackAugmenter(4, 4.0, 2, 1)"
   ]
  },
  {
   "cell_type": "code",
   "execution_count": 18,
   "metadata": {},
   "outputs": [],
   "source": [
    "writer = SummaryWriter(log_dir='runs/celeba-adv-pretrained')"
   ]
  },
  {
   "cell_type": "code",
   "execution_count": 19,
   "metadata": {},
   "outputs": [],
   "source": [
    "def uncertified_validate(loader, model, criterion, writer, epoch, device):\n",
    "    assert model.training\n",
    "    try:\n",
    "        model.eval()\n",
    "        loss_cnt = AverageCounter()\n",
    "        accuracy_cnt = AverageCounter()\n",
    "        with torch.no_grad():\n",
    "            for X, y in tqdm.tqdm(loader):\n",
    "                y_pred = model(X.to(device))\n",
    "                y = y.to(device)\n",
    "                accuracy_cnt.add(torch.mean(((y_pred > 0) == y).to(torch.float)).item())\n",
    "                loss = criterion(y_pred, y.to(y_pred.dtype))\n",
    "                loss_cnt.add(loss.item())\n",
    "            writer.add_scalar('Loss/val', loss_cnt.get_average(), epoch)\n",
    "            writer.add_scalar('Accuracy/val', accuracy_cnt.get_average(), epoch)\n",
    "    finally:\n",
    "        model.train()"
   ]
  },
  {
   "cell_type": "code",
   "execution_count": 20,
   "metadata": {},
   "outputs": [
    {
     "name": "stdout",
     "output_type": "stream",
     "text": [
      "Epoch 2\n"
     ]
    },
    {
     "data": {
      "application/vnd.jupyter.widget-view+json": {
       "model_id": "e7312ffaecd646c69ce0c6a31d87a17e",
       "version_major": 2,
       "version_minor": 0
      },
      "text/plain": [
       "  0%|          | 0/2544 [00:00<?, ?it/s]"
      ]
     },
     "metadata": {},
     "output_type": "display_data"
    },
    {
     "data": {
      "application/vnd.jupyter.widget-view+json": {
       "model_id": "e89e7756c31c4f0d9cac806a9274055c",
       "version_major": 2,
       "version_minor": 0
      },
      "text/plain": [
       "  0%|          | 0/311 [00:00<?, ?it/s]"
      ]
     },
     "metadata": {},
     "output_type": "display_data"
    },
    {
     "data": {
      "application/vnd.jupyter.widget-view+json": {
       "model_id": "8da80ee11bb04821bd7d260bfc4c4221",
       "version_major": 2,
       "version_minor": 0
      },
      "text/plain": [
       "  0%|          | 0/25 [00:00<?, ?it/s]"
      ]
     },
     "metadata": {},
     "output_type": "display_data"
    },
    {
     "ename": "NameError",
     "evalue": "name 'pl' is not defined",
     "output_type": "error",
     "traceback": [
      "\u001b[0;31m---------------------------------------------------------------------------\u001b[0m",
      "\u001b[0;31mNameError\u001b[0m                                 Traceback (most recent call last)",
      "\u001b[0;32m<ipython-input-20-1c577b413f02>\u001b[0m in \u001b[0;36m<module>\u001b[0;34m\u001b[0m\n\u001b[1;32m      9\u001b[0m     \u001b[0mtorch\u001b[0m\u001b[0;34m.\u001b[0m\u001b[0msave\u001b[0m\u001b[0;34m(\u001b[0m\u001b[0mres\u001b[0m\u001b[0;34m,\u001b[0m \u001b[0;34mf'adv-pt-res{epoch:02d}.pth'\u001b[0m\u001b[0;34m)\u001b[0m\u001b[0;34m\u001b[0m\u001b[0;34m\u001b[0m\u001b[0m\n\u001b[1;32m     10\u001b[0m     \u001b[0mfig\u001b[0m\u001b[0;34m,\u001b[0m \u001b[0max\u001b[0m \u001b[0;34m=\u001b[0m \u001b[0mplt\u001b[0m\u001b[0;34m.\u001b[0m\u001b[0msubplots\u001b[0m\u001b[0;34m(\u001b[0m\u001b[0;34m)\u001b[0m\u001b[0;34m\u001b[0m\u001b[0;34m\u001b[0m\u001b[0m\n\u001b[0;32m---> 11\u001b[0;31m     \u001b[0mpl\u001b[0m\u001b[0;34m(\u001b[0m\u001b[0max\u001b[0m\u001b[0;34m,\u001b[0m \u001b[0mres\u001b[0m\u001b[0;34m,\u001b[0m \u001b[0mlabel\u001b[0m\u001b[0;34m=\u001b[0m\u001b[0;34m'50'\u001b[0m\u001b[0;34m)\u001b[0m\u001b[0;34m\u001b[0m\u001b[0;34m\u001b[0m\u001b[0m\n\u001b[0m\u001b[1;32m     12\u001b[0m     \u001b[0mpl\u001b[0m\u001b[0;34m(\u001b[0m\u001b[0max\u001b[0m\u001b[0;34m,\u001b[0m \u001b[0mtorch\u001b[0m\u001b[0;34m.\u001b[0m\u001b[0mload\u001b[0m\u001b[0;34m(\u001b[0m\u001b[0;34m'adv-big-res11.225.pth'\u001b[0m\u001b[0;34m)\u001b[0m\u001b[0;34m,\u001b[0m \u001b[0mlabel\u001b[0m\u001b[0;34m=\u001b[0m\u001b[0;34m'50'\u001b[0m\u001b[0;34m)\u001b[0m\u001b[0;34m\u001b[0m\u001b[0;34m\u001b[0m\u001b[0m\n\u001b[1;32m     13\u001b[0m     \u001b[0max\u001b[0m\u001b[0;34m.\u001b[0m\u001b[0maxhline\u001b[0m\u001b[0;34m(\u001b[0m\u001b[0;36m0.818\u001b[0m\u001b[0;34m,\u001b[0m \u001b[0mlabel\u001b[0m\u001b[0;34m=\u001b[0m\u001b[0;34m'constant'\u001b[0m\u001b[0;34m,\u001b[0m \u001b[0mc\u001b[0m\u001b[0;34m=\u001b[0m\u001b[0;34m'k'\u001b[0m\u001b[0;34m)\u001b[0m\u001b[0;34m\u001b[0m\u001b[0;34m\u001b[0m\u001b[0m\n",
      "\u001b[0;31mNameError\u001b[0m: name 'pl' is not defined"
     ]
    },
    {
     "data": {
      "image/png": "[encoded data removed]",
      "text/plain": [
       "<Figure size 432x288 with 1 Axes>"
      ]
     },
     "metadata": {
      "needs_background": "light"
     },
     "output_type": "display_data"
    }
   ],
   "source": [
    "epoch = 2\n",
    "while epoch <= 10:\n",
    "    print(f'Epoch {epoch}')\n",
    "    model.train()\n",
    "    train(train_loader, model, criterion, optimizer, writer, epoch, augmenter, device)\n",
    "    torch.save(model, f'celeba-pt-adv{epoch:02d}.pth')\n",
    "    uncertified_validate(test_loader, model, criterion, writer, epoch, device)\n",
    "    res = calculate_radii(celeba_test_dataset, range(25), model, 10**2, 10**4, 1e-3, 1., device=device, batch_size=batch_size)\n",
    "    torch.save(res, f'adv-pt-res{epoch:02d}.pth')\n",
    "    fig, ax = plt.subplots()\n",
    "    pl(ax, res, label='50')\n",
    "    pl(ax, torch.load('adv-big-res11.225.pth'), label='50')\n",
    "    ax.axhline(0.818, label='constant', c='k')\n",
    "    ax.legend()\n",
    "    writer.add_figure('certified-accuracy', fig, epoch)\n",
    "    epoch += 1"
   ]
  },
  {
   "cell_type": "code",
   "execution_count": null,
   "metadata": {},
   "outputs": [],
   "source": [
    "uncertified_validate(test_loader, model, criterion, writer, epoch, device)"
   ]
  },
  {
   "cell_type": "code",
   "execution_count": null,
   "metadata": {},
   "outputs": [],
   "source": [
    "res_50 = calculate_radii(celeba_test_dataset, range(25), model, 10**2, 10**4, 1e-3, 1., device=device, batch_size=batch_size)"
   ]
  },
  {
   "cell_type": "code",
   "execution_count": null,
   "metadata": {},
   "outputs": [],
   "source": [
    "torch.save(res_50, 'adv-big-res01.pth')"
   ]
  },
  {
   "cell_type": "code",
   "execution_count": null,
   "metadata": {},
   "outputs": [],
   "source": [
    "res_10_old = res_10"
   ]
  },
  {
   "cell_type": "code",
   "execution_count": null,
   "metadata": {},
   "outputs": [],
   "source": [
    "res_10 = calculate_radii(celeba_test_dataset, range(25), torch.load('celeba10.pth').to(device), 10**2, 10**4, 1e-3, 1., device=device, batch_size=batch_size)"
   ]
  },
  {
   "cell_type": "code",
   "execution_count": null,
   "metadata": {},
   "outputs": [],
   "source": [
    "torch.save(res_10, 'eval10.pth')"
   ]
  },
  {
   "cell_type": "code",
   "execution_count": null,
   "metadata": {},
   "outputs": [],
   "source": [
    "def get_certified_accuracies(d):\n",
    "    from smoothing import certified_accuracy\n",
    "    radii = np.linspace(0, d['r'].view(-1).max())\n",
    "    res = np.zeros_like(radii)\n",
    "    for i, r in enumerate(radii):\n",
    "        res[i] = certified_accuracy(d['y_pred'].view(-1), d['r'].view(-1), d['y'].view(-1), r)\n",
    "    return radii, res"
   ]
  },
  {
   "cell_type": "code",
   "execution_count": null,
   "metadata": {},
   "outputs": [],
   "source": [
    "def pl(ax, d, **kwargs):\n",
    "    radii, res = get_certified_accuracies(d)\n",
    "    ax.plot(radii, res, **kwargs)"
   ]
  },
  {
   "cell_type": "code",
   "execution_count": null,
   "metadata": {},
   "outputs": [],
   "source": [
    "fig, ax = plt.subplots()\n",
    "pl(ax, torch.load('adv-big-res01.pth'), label='50')\n",
    "pl(ax, res_10, label='smoothened')\n",
    "\n",
    "ax.legend()"
   ]
  },
  {
   "cell_type": "code",
   "execution_count": null,
   "metadata": {},
   "outputs": [],
   "source": [
    "(res_50['y_pred'] == res_50['y']).view(-1).to(torch.float).mean()"
   ]
  },
  {
   "cell_type": "code",
   "execution_count": null,
   "metadata": {},
   "outputs": [],
   "source": [
    "d = torch.load('eval10.pth')"
   ]
  },
  {
   "cell_type": "code",
   "execution_count": null,
   "metadata": {},
   "outputs": [],
   "source": [
    "radii_old = np.linspace(0, d['r'].view(-1).max())\n",
    "res_old = np.zeros_like(radii_old)\n",
    "for i, r in enumerate(radii_old):\n",
    "    res_old[i] += certified_accuracy(d['y_pred'].view(-1), d['r'].view(-1), d['y'].view(-1), r)"
   ]
  },
  {
   "cell_type": "code",
   "execution_count": null,
   "metadata": {},
   "outputs": [],
   "source": [
    "from statsmodels.stats.proportion import proportion_confint"
   ]
  },
  {
   "cell_type": "code",
   "execution_count": null,
   "metadata": {},
   "outputs": [],
   "source": [
    "N = 10**6\n",
    "est_lo, est_hi = proportion_confint(N, N, 2e-3, method='beta')"
   ]
  },
  {
   "cell_type": "code",
   "execution_count": null,
   "metadata": {},
   "outputs": [],
   "source": [
    "from scipy.stats import norm, binom_test"
   ]
  },
  {
   "cell_type": "code",
   "execution_count": null,
   "metadata": {},
   "outputs": [],
   "source": [
    "norm.ppf(est_lo)"
   ]
  },
  {
   "cell_type": "code",
   "execution_count": null,
   "metadata": {},
   "outputs": [],
   "source": []
  }
 ],
 "metadata": {
  "accelerator": "GPU",
  "colab": {
   "name": "Untitled2.ipynb",
   "provenance": []
  },
  "kernelspec": {
   "display_name": "Python 3",
   "language": "python",
   "name": "python3"
  }
 },
 "nbformat": 4,
 "nbformat_minor": 1
}
