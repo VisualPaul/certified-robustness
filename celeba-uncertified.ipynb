{
 "cells": [
  {
   "cell_type": "code",
   "execution_count": 1,
   "metadata": {
    "colab": {
     "base_uri": "https://localhost:8080/"
    },
    "id": "YAk4nBvXVLkJ",
    "outputId": "76167999-4dc5-4163-d3b9-fdb76bba7e95"
   },
   "outputs": [
    {
     "name": "stdout",
     "output_type": "stream",
     "text": [
      "Populating the interactive namespace from numpy and matplotlib\n"
     ]
    }
   ],
   "source": [
    "%pylab inline"
   ]
  },
  {
   "cell_type": "code",
   "execution_count": 1,
   "metadata": {},
   "outputs": [
    {
     "data": {
      "application/vnd.jupyter.widget-view+json": {
       "model_id": "516670c5d0794680970eb44b1200ea1e",
       "version_major": 2,
       "version_minor": 0
      },
      "text/plain": [
       "BoundedIntText(value=0, description='GPU to use:', max=1)"
      ]
     },
     "metadata": {},
     "output_type": "display_data"
    },
    {
     "data": {
      "application/vnd.jupyter.widget-view+json": {
       "model_id": "e32b4bb6fd4649878776427bb95514cf",
       "version_major": 2,
       "version_minor": 0
      },
      "text/plain": [
       "Button(description='Set', icon='check', style=ButtonStyle())"
      ]
     },
     "metadata": {},
     "output_type": "display_data"
    }
   ],
   "source": [
    "import os\n",
    "import sys\n",
    "import ipywidgets as widgets\n",
    "\n",
    "cuda_input = widgets.BoundedIntText(\n",
    "    value=0,\n",
    "    min=0,\n",
    "    max=1,\n",
    "    step=1,\n",
    "    description='GPU to use:',\n",
    ")\n",
    "button = widgets.Button(\n",
    "    description='Set',\n",
    "    icon='check'\n",
    ")\n",
    "\n",
    "def set_gpu_to_use(btn=None):\n",
    "    os.environ['CUDA_VISIBLE_DEVICES'] = str(cuda_input.value)\n",
    "    \n",
    "display(cuda_input)\n",
    "set_gpu_to_use()\n",
    "button.on_click(set_gpu_to_use)\n",
    "display(button)"
   ]
  },
  {
   "cell_type": "code",
   "execution_count": 2,
   "metadata": {
    "colab": {
     "base_uri": "https://localhost:8080/"
    },
    "id": "spvu8qMfVQ8Y",
    "outputId": "21852b33-078e-40aa-cabe-818d7b0574b4"
   },
   "outputs": [],
   "source": [
    "from torch import functional as F\n",
    "from torch import nn\n",
    "from torchvision import datasets, transforms, models\n",
    "import torch\n",
    "\n",
    "from tqdm import notebook as tqdm\n",
    "from torch.utils.tensorboard import SummaryWriter"
   ]
  },
  {
   "cell_type": "code",
   "execution_count": 14,
   "metadata": {
    "id": "kwnddIh2VTZZ"
   },
   "outputs": [],
   "source": [
    "from smoothing import AverageCounter, MovingAverageCounter, NoAugmenter"
   ]
  },
  {
   "cell_type": "code",
   "execution_count": 4,
   "metadata": {
    "id": "TNNx2tLTVZ74"
   },
   "outputs": [],
   "source": [
    "def train(loader, model, criterion, optimizer, writer, epoch, augmenter, device=torch.device('cpu')):\n",
    "    assert model.training\n",
    "    loss_cnt = MovingAverageCounter(5)\n",
    "    iteration = (epoch - 1) * len(loader.dataset)\n",
    "\n",
    "    for X, y in tqdm.tqdm(loader):\n",
    "        input = X.to(device)\n",
    "        target = y.to(device).to(torch.float32)\n",
    "        X_aug, y_aug = augmenter.augment_tensors(input, target, model)\n",
    "        y_pred = model(X_aug)\n",
    "        loss = criterion(y_pred, y_aug)\n",
    "        loss_cnt.add(loss.item())\n",
    "        iteration += len(y)\n",
    "        writer.add_scalar('Loss/train', loss_cnt.get_average(), iteration)\n",
    "        optimizer.zero_grad()\n",
    "        loss.backward()\n",
    "        optimizer.step()\n",
    "        "
   ]
  },
  {
   "cell_type": "code",
   "execution_count": 5,
   "metadata": {
    "id": "_TbFtzjXbug1"
   },
   "outputs": [
    {
     "name": "stdout",
     "output_type": "stream",
     "text": [
      "NVIDIA Tesla K80\n"
     ]
    }
   ],
   "source": [
    "if torch.cuda.is_available():\n",
    "    device = torch.device('cuda')\n",
    "    print(torch.cuda.get_device_name(device))\n",
    "else:\n",
    "    device = torch.device('cpu')"
   ]
  },
  {
   "cell_type": "code",
   "execution_count": 6,
   "metadata": {},
   "outputs": [],
   "source": [
    "img_mean = [0.5063, 0.4258, 0.3832]\n",
    "img_std = [0.2660, 0.2452, 0.2414]\n",
    "celeba_transforms = [\n",
    "    transforms.r\n",
    "    transforms.ToTensor(),\n",
    "#    transforms.Normalize(img_mean, img_std),  # kinda painful to do that with adversarial attacks\n",
    "]\n",
    "celeba_transform = transforms.Compose(celeba_transforms)\n",
    "\n",
    "celeba_transform_train = transforms.Compose([\n",
    "    transforms.RandomHorizontalFlip(),\n",
    "] + celeba_transforms)"
   ]
  },
  {
   "cell_type": "code",
   "execution_count": 7,
   "metadata": {
    "id": "958DxtMCWKdK"
   },
   "outputs": [],
   "source": [
    "celeba_train_dataset = datasets.CelebA('dsets/', split='train', target_type='attr',\n",
    "                                      download=False, transform=celeba_transform_train)"
   ]
  },
  {
   "cell_type": "code",
   "execution_count": 8,
   "metadata": {
    "id": "RzACpTt_dV5n"
   },
   "outputs": [],
   "source": [
    "celeba_test_dataset = datasets.CelebA('dsets/', split='valid', target_type='attr',\n",
    "                                      download=False, transform=celeba_transform)"
   ]
  },
  {
   "cell_type": "code",
   "execution_count": 9,
   "metadata": {},
   "outputs": [],
   "source": [
    "class CelebaModel(nn.Module):\n",
    "    def __init__(self):\n",
    "        super(CelebaModel, self).__init__()\n",
    "        self.resnet50 = models.resnet50(pretrained=True)\n",
    "        self.resnet50.fc = nn.Linear(2048, 40)\n",
    "\n",
    "    def forward(self, x):\n",
    "        return self.resnet50(x)\n",
    "    \n",
    "class CelebaModel18(nn.Module):\n",
    "    def __init__(self):\n",
    "        super(CelebaModel18, self).__init__()\n",
    "        self.resnet18 = models.resnet18(pretrained=True)\n",
    "        self.resnet18.fc = nn.Linear(512, 40)\n",
    "\n",
    "    def forward(self, x):\n",
    "        return self.resnet18(x)"
   ]
  },
  {
   "cell_type": "code",
   "execution_count": 10,
   "metadata": {},
   "outputs": [],
   "source": [
    "batch_size=128"
   ]
  },
  {
   "cell_type": "code",
   "execution_count": 19,
   "metadata": {
    "id": "DUqze3F1Z6J6"
   },
   "outputs": [],
   "source": [
    "train_loader = torch.utils.data.DataLoader(celeba_train_dataset, batch_size)\n",
    "test_loader = torch.utils.data.DataLoader(celeba_test_dataset, batch_size)"
   ]
  },
  {
   "cell_type": "code",
   "execution_count": 24,
   "metadata": {
    "id": "fWCPsnTZaISi"
   },
   "outputs": [],
   "source": [
    "criterion = nn.BCEWithLogitsLoss()\n",
    "model = CelebaModel().to(device)\n",
    "optimizer = torch.optim.Adam(model.parameters(), lr=1e-3)\n",
    "augmenter = NoAugmenter()"
   ]
  },
  {
   "cell_type": "code",
   "execution_count": 25,
   "metadata": {},
   "outputs": [],
   "source": [
    "writer = SummaryWriter(log_dir='runs/celeba-uncert')"
   ]
  },
  {
   "cell_type": "code",
   "execution_count": 26,
   "metadata": {},
   "outputs": [],
   "source": [
    "def uncertified_validate(loader, model, criterion, writer, epoch, device):\n",
    "    assert model.training\n",
    "    try:\n",
    "        model.eval()\n",
    "        loss_cnt = AverageCounter()\n",
    "        accuracy_cnt = AverageCounter()\n",
    "        with torch.no_grad():\n",
    "            for X, y in tqdm.tqdm(loader):\n",
    "                y_pred = model(X.to(device))\n",
    "                y = y.to(device)\n",
    "                accuracy_cnt.add(torch.mean(((y_pred > 0) == y).to(torch.float)).item())\n",
    "                loss = criterion(y_pred, y.to(y_pred.dtype))\n",
    "                loss_cnt.add(loss.item())\n",
    "            writer.add_scalar('Loss/val', loss_cnt.get_average(), epoch)\n",
    "            writer.add_scalar('Accuracy/val', accuracy_cnt.get_average(), epoch)\n",
    "    finally:\n",
    "        model.train()"
   ]
  },
  {
   "cell_type": "code",
   "execution_count": null,
   "metadata": {},
   "outputs": [
    {
     "name": "stdout",
     "output_type": "stream",
     "text": [
      "Epoch 10\n"
     ]
    },
    {
     "data": {
      "application/vnd.jupyter.widget-view+json": {
       "model_id": "d91181ef07514959b7c38d3ac954ee95",
       "version_major": 2,
       "version_minor": 0
      },
      "text/plain": [
       "  0%|          | 0/2544 [00:00<?, ?it/s]"
      ]
     },
     "metadata": {},
     "output_type": "display_data"
    },
    {
     "data": {
      "application/vnd.jupyter.widget-view+json": {
       "model_id": "4d2690d80a824828935ed18b4d38b028",
       "version_major": 2,
       "version_minor": 0
      },
      "text/plain": [
       "  0%|          | 0/311 [00:00<?, ?it/s]"
      ]
     },
     "metadata": {},
     "output_type": "display_data"
    },
    {
     "name": "stdout",
     "output_type": "stream",
     "text": [
      "Epoch 11\n"
     ]
    },
    {
     "data": {
      "application/vnd.jupyter.widget-view+json": {
       "model_id": "1ca93727480d4a91ba41e1dee90290c4",
       "version_major": 2,
       "version_minor": 0
      },
      "text/plain": [
       "  0%|          | 0/2544 [00:00<?, ?it/s]"
      ]
     },
     "metadata": {},
     "output_type": "display_data"
    },
    {
     "data": {
      "application/vnd.jupyter.widget-view+json": {
       "model_id": "3dd82e547066442da7cc49bffdc365af",
       "version_major": 2,
       "version_minor": 0
      },
      "text/plain": [
       "  0%|          | 0/311 [00:00<?, ?it/s]"
      ]
     },
     "metadata": {},
     "output_type": "display_data"
    },
    {
     "name": "stdout",
     "output_type": "stream",
     "text": [
      "Epoch 12\n"
     ]
    },
    {
     "data": {
      "application/vnd.jupyter.widget-view+json": {
       "model_id": "28faeacda9854ff2913767df9b4536a5",
       "version_major": 2,
       "version_minor": 0
      },
      "text/plain": [
       "  0%|          | 0/2544 [00:00<?, ?it/s]"
      ]
     },
     "metadata": {},
     "output_type": "display_data"
    },
    {
     "data": {
      "application/vnd.jupyter.widget-view+json": {
       "model_id": "3a878995972743e3913855e86c2b0f4b",
       "version_major": 2,
       "version_minor": 0
      },
      "text/plain": [
       "  0%|          | 0/311 [00:00<?, ?it/s]"
      ]
     },
     "metadata": {},
     "output_type": "display_data"
    },
    {
     "data": {
      "application/vnd.jupyter.widget-view+json": {
       "model_id": "1f31779856f14db2aaa8aa9659fffe18",
       "version_major": 2,
       "version_minor": 0
      },
      "text/plain": [
       "  0%|          | 0/311 [00:00<?, ?it/s]"
      ]
     },
     "metadata": {},
     "output_type": "display_data"
    },
    {
     "name": "stderr",
     "output_type": "stream",
     "text": [
      "IOPub message rate exceeded.\n",
      "The notebook server will temporarily stop sending output\n",
      "to the client in order to avoid crashing it.\n",
      "To change this limit, set the config variable\n",
      "`--NotebookApp.iopub_msg_rate_limit`.\n",
      "\n",
      "Current values:\n",
      "NotebookApp.iopub_msg_rate_limit=1000.0 (msgs/sec)\n",
      "NotebookApp.rate_limit_window=3.0 (secs)\n",
      "\n",
      "IOPub message rate exceeded.\n",
      "The notebook server will temporarily stop sending output\n",
      "to the client in order to avoid crashing it.\n",
      "To change this limit, set the config variable\n",
      "`--NotebookApp.iopub_msg_rate_limit`.\n",
      "\n",
      "Current values:\n",
      "NotebookApp.iopub_msg_rate_limit=1000.0 (msgs/sec)\n",
      "NotebookApp.rate_limit_window=3.0 (secs)\n",
      "\n"
     ]
    },
    {
     "data": {
      "application/vnd.jupyter.widget-view+json": {
       "model_id": "32321976e956417cb29017da46f23f87",
       "version_major": 2,
       "version_minor": 0
      },
      "text/plain": [
       "  0%|          | 0/311 [00:00<?, ?it/s]"
      ]
     },
     "metadata": {},
     "output_type": "display_data"
    },
    {
     "name": "stdout",
     "output_type": "stream",
     "text": [
      "Epoch 17\n"
     ]
    },
    {
     "data": {
      "application/vnd.jupyter.widget-view+json": {
       "model_id": "58d6b85a4ed3495790d354179e15f92c",
       "version_major": 2,
       "version_minor": 0
      },
      "text/plain": [
       "  0%|          | 0/2544 [00:00<?, ?it/s]"
      ]
     },
     "metadata": {},
     "output_type": "display_data"
    },
    {
     "data": {
      "application/vnd.jupyter.widget-view+json": {
       "model_id": "a2d65afdfc0f4fc39abb371933c63f78",
       "version_major": 2,
       "version_minor": 0
      },
      "text/plain": [
       "  0%|          | 0/311 [00:00<?, ?it/s]"
      ]
     },
     "metadata": {},
     "output_type": "display_data"
    },
    {
     "name": "stdout",
     "output_type": "stream",
     "text": [
      "Epoch 18\n"
     ]
    },
    {
     "data": {
      "application/vnd.jupyter.widget-view+json": {
       "model_id": "92d0fb70ede14a4d9c3b1b84c69aab80",
       "version_major": 2,
       "version_minor": 0
      },
      "text/plain": [
       "  0%|          | 0/2544 [00:00<?, ?it/s]"
      ]
     },
     "metadata": {},
     "output_type": "display_data"
    },
    {
     "data": {
      "application/vnd.jupyter.widget-view+json": {
       "model_id": "fed3e938686a4c08a6f9e57e95f5886a",
       "version_major": 2,
       "version_minor": 0
      },
      "text/plain": [
       "  0%|          | 0/311 [00:00<?, ?it/s]"
      ]
     },
     "metadata": {},
     "output_type": "display_data"
    },
    {
     "name": "stdout",
     "output_type": "stream",
     "text": [
      "Epoch 19\n"
     ]
    },
    {
     "data": {
      "application/vnd.jupyter.widget-view+json": {
       "model_id": "4a00b5799ba24b519684c89562132be2",
       "version_major": 2,
       "version_minor": 0
      },
      "text/plain": [
       "  0%|          | 0/2544 [00:00<?, ?it/s]"
      ]
     },
     "metadata": {},
     "output_type": "display_data"
    }
   ],
   "source": [
    "epoch = 10\n",
    "while epoch <= 20:\n",
    "    print(f'Epoch {epoch}')\n",
    "    model.train()\n",
    "    train(train_loader, model, criterion, optimizer, writer, epoch, augmenter, device)\n",
    "    torch.save(model, f'celeba-uncert{epoch:02d}.pth')\n",
    "    uncertified_validate(test_loader, model, criterion, writer, epoch, device)\n",
    "    epoch += 1"
   ]
  },
  {
   "cell_type": "code",
   "execution_count": null,
   "metadata": {},
   "outputs": [],
   "source": []
  },
  {
   "cell_type": "code",
   "execution_count": 35,
   "metadata": {},
   "outputs": [
    {
     "data": {
      "application/vnd.jupyter.widget-view+json": {
       "model_id": "0a418e7692f74579b33355a7da7297be",
       "version_major": 2,
       "version_minor": 0
      },
      "text/plain": [
       "  0%|          | 0/311 [00:00<?, ?it/s]"
      ]
     },
     "metadata": {},
     "output_type": "display_data"
    }
   ],
   "source": [
    "uncertified_validate(test_loader, model, criterion, writer, epoch, device)"
   ]
  },
  {
   "cell_type": "code",
   "execution_count": 32,
   "metadata": {},
   "outputs": [
    {
     "data": {
      "application/vnd.jupyter.widget-view+json": {
       "model_id": "eace09ec392044cf8a4d814c9b9441e6",
       "version_major": 2,
       "version_minor": 0
      },
      "text/plain": [
       "  0%|          | 0/311 [00:00<?, ?it/s]"
      ]
     },
     "metadata": {},
     "output_type": "display_data"
    },
    {
     "name": "stdout",
     "output_type": "stream",
     "text": [
      "Loss/val 0.20287118967131404 9\n",
      "Accuracy/val 0.9130268468734153 9\n"
     ]
    }
   ],
   "source": [
    "assert model.training\n",
    "try:\n",
    "    model.eval()\n",
    "    loss_cnt = AverageCounter()\n",
    "    accuracy_cnt = AverageCounter()\n",
    "    with torch.no_grad():\n",
    "        for X, y in tqdm.tqdm(test_loader):\n",
    "            y_pred = model(X.to(device))\n",
    "            y = y.to(device)\n",
    "            accuracy_cnt.add(torch.mean(((y_pred > 0) == y).to(torch.float)).item())\n",
    "            loss = criterion(y_pred, y.to(y_pred.dtype))\n",
    "            loss_cnt.add(loss.item())\n",
    "        print('Loss/val', loss_cnt.get_average(), epoch)\n",
    "        print('Accuracy/val', accuracy_cnt.get_average(), epoch)\n",
    "finally:\n",
    "    model.train()"
   ]
  },
  {
   "cell_type": "code",
   "execution_count": 33,
   "metadata": {},
   "outputs": [],
   "source": [
    "writer.flush()"
   ]
  },
  {
   "cell_type": "code",
   "execution_count": 21,
   "metadata": {},
   "outputs": [],
   "source": [
    "torch.save(res_50, 'adv-big-res01.pth')"
   ]
  },
  {
   "cell_type": "code",
   "execution_count": 33,
   "metadata": {},
   "outputs": [],
   "source": [
    "res_10_old = res_10"
   ]
  },
  {
   "cell_type": "code",
   "execution_count": 34,
   "metadata": {},
   "outputs": [
    {
     "data": {
      "application/vnd.jupyter.widget-view+json": {
       "model_id": "aa320bb42bf24badbe7e520d6a913c37",
       "version_major": 2,
       "version_minor": 0
      },
      "text/plain": [
       "  0%|          | 0/25 [00:00<?, ?it/s]"
      ]
     },
     "metadata": {},
     "output_type": "display_data"
    }
   ],
   "source": [
    "res_10 = calculate_radii(celeba_test_dataset, range(25), torch.load('celeba10.pth').to(device), 10**2, 10**4, 1e-3, 1., device=device, batch_size=batch_size)"
   ]
  },
  {
   "cell_type": "code",
   "execution_count": 36,
   "metadata": {},
   "outputs": [],
   "source": [
    "torch.save(res_10, 'eval10.pth')"
   ]
  },
  {
   "cell_type": "code",
   "execution_count": 28,
   "metadata": {},
   "outputs": [],
   "source": [
    "def get_certified_accuracies(d):\n",
    "    from smoothing import certified_accuracy\n",
    "    radii = np.linspace(0, d['r'].view(-1).max())\n",
    "    res = np.zeros_like(radii)\n",
    "    for i, r in enumerate(radii):\n",
    "        res[i] = certified_accuracy(d['y_pred'].view(-1), d['r'].view(-1), d['y'].view(-1), r)\n",
    "    return radii, res"
   ]
  },
  {
   "cell_type": "code",
   "execution_count": 29,
   "metadata": {},
   "outputs": [],
   "source": [
    "def pl(ax, d, **kwargs):\n",
    "    radii, res = get_certified_accuracies(d)\n",
    "    ax.plot(radii, res, **kwargs)"
   ]
  },
  {
   "cell_type": "code",
   "execution_count": 35,
   "metadata": {},
   "outputs": [
    {
     "data": {
      "text/plain": [
       "<matplotlib.legend.Legend at 0x7f9083c26580>"
      ]
     },
     "execution_count": 35,
     "metadata": {},
     "output_type": "execute_result"
    },
    {
     "data": {
      "image/png": "[encoded data removed]",
      "text/plain": [
       "<Figure size 432x288 with 1 Axes>"
      ]
     },
     "metadata": {
      "needs_background": "light"
     },
     "output_type": "display_data"
    }
   ],
   "source": [
    "fig, ax = plt.subplots()\n",
    "pl(ax, torch.load('adv-big-res01.pth'), label='50')\n",
    "pl(ax, res_10, label='smoothened')\n",
    "\n",
    "ax.legend()"
   ]
  },
  {
   "cell_type": "code",
   "execution_count": 44,
   "metadata": {},
   "outputs": [
    {
     "data": {
      "text/plain": [
       "tensor(0.8430)"
      ]
     },
     "execution_count": 44,
     "metadata": {},
     "output_type": "execute_result"
    }
   ],
   "source": [
    "(res_50['y_pred'] == res_50['y']).view(-1).to(torch.float).mean()"
   ]
  },
  {
   "cell_type": "code",
   "execution_count": 35,
   "metadata": {},
   "outputs": [],
   "source": [
    "d = torch.load('eval10.pth')"
   ]
  },
  {
   "cell_type": "code",
   "execution_count": 36,
   "metadata": {},
   "outputs": [],
   "source": [
    "radii_old = np.linspace(0, d['r'].view(-1).max())\n",
    "res_old = np.zeros_like(radii_old)\n",
    "for i, r in enumerate(radii_old):\n",
    "    res_old[i] += certified_accuracy(d['y_pred'].view(-1), d['r'].view(-1), d['y'].view(-1), r)"
   ]
  },
  {
   "cell_type": "code",
   "execution_count": 37,
   "metadata": {},
   "outputs": [],
   "source": [
    "from statsmodels.stats.proportion import proportion_confint"
   ]
  },
  {
   "cell_type": "code",
   "execution_count": 42,
   "metadata": {},
   "outputs": [],
   "source": [
    "N = 10**6\n",
    "est_lo, est_hi = proportion_confint(N, N, 2e-3, method='beta')"
   ]
  },
  {
   "cell_type": "code",
   "execution_count": 43,
   "metadata": {},
   "outputs": [],
   "source": [
    "from scipy.stats import norm, binom_test"
   ]
  },
  {
   "cell_type": "code",
   "execution_count": 44,
   "metadata": {},
   "outputs": [
    {
     "data": {
      "text/plain": [
       "4.346773698699431"
      ]
     },
     "execution_count": 44,
     "metadata": {},
     "output_type": "execute_result"
    }
   ],
   "source": [
    "norm.ppf(est_lo)"
   ]
  },
  {
   "cell_type": "code",
   "execution_count": null,
   "metadata": {},
   "outputs": [],
   "source": []
  }
 ],
 "metadata": {
  "accelerator": "GPU",
  "colab": {
   "name": "Untitled2.ipynb",
   "provenance": []
  },
  "kernelspec": {
   "display_name": "Python 3",
   "language": "python",
   "name": "python3"
  },
  "language_info": {
   "codemirror_mode": {
    "name": "ipython",
    "version": 3
   },
   "file_extension": ".py",
   "mimetype": "text/x-python",
   "name": "python",
   "nbconvert_exporter": "python",
   "pygments_lexer": "ipython3",
   "version": "3.8.8"
  }
 },
 "nbformat": 4,
 "nbformat_minor": 1
}
